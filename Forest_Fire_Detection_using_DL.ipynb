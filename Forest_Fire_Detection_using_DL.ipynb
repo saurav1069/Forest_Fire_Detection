{
  "cells": [
    {
      "cell_type": "code",
      "execution_count": null,
      "metadata": {
        "colab": {
          "base_uri": "https://localhost:8080/"
        },
        "id": "vUwkZf2bjqPb",
        "outputId": "652cf98e-ac20-4b85-d9e3-f6100b6c2bac"
      },
      "outputs": [],
      "source": [
        "import kagglehub\n",
        "\n",
        "# Download latest version\n",
        "path = kagglehub.dataset_download(\"elmadafri/the-wildfire-dataset\")\n",
        "\n",
        "print(\"Path to dataset files:\", path)"
      ]
    },
    {
      "cell_type": "code",
      "execution_count": null,
      "metadata": {
        "id": "GkqLuDexkgOI"
      },
      "outputs": [],
      "source": [
        "# Importing necessary libraries\n",
        "import os\n",
        "import numpy as np\n",
        "import matplotlib.pyplot as plt\n",
        "import tensorflow as tf\n",
        "from tensorflow.keras.preprocessing.image import ImageDataGenerator\n",
        "from tensorflow.keras.models import Sequential\n",
        "from tensorflow.keras.layers import Conv2D, MaxPooling2D, Flatten, Dense, Dropout, Input"
      ]
    },
    {
      "cell_type": "code",
      "execution_count": null,
      "metadata": {
        "colab": {
          "base_uri": "https://localhost:8080/"
        },
        "id": "luezXzibma6T",
        "outputId": "03f93497-f000-4a0a-cc4e-2d4dd242cb6d"
      },
      "outputs": [],
      "source": [
        "# TO ensure the GPU is present\n",
        "physical_devices = tf.config.experimental.list_physical_devices('GPU')\n",
        "if len(physical_devices) > 0:\n",
        "  tf.config.experimental.set_memory_growth(physical_devices[0], True)\n",
        "  print('GPU is Available!')\n",
        "else:\n",
        "  print('GPU is Unavailable!')"
      ]
    },
    {
      "cell_type": "code",
      "execution_count": null,
      "metadata": {
        "id": "31b12RAXnYBq"
      },
      "outputs": [],
      "source": [
        "# Load and explore the dataset\n",
        "train_dir = '/root/.cache/kagglehub/datasets/elmadafri/the-wildfire-dataset/versions/3/the_wildfire_dataset_2n_version/train'\n",
        "val_dir = '/root/.cache/kagglehub/datasets/elmadafri/the-wildfire-dataset/versions/3/the_wildfire_dataset_2n_version/val'\n",
        "test_dir = '/root/.cache/kagglehub/datasets/elmadafri/the-wildfire-dataset/versions/3/the_wildfire_dataset_2n_version/test'"
      ]
    },
    {
      "cell_type": "code",
      "execution_count": null,
      "metadata": {
        "colab": {
          "base_uri": "https://localhost:8080/"
        },
        "id": "micmxs0en-vp",
        "outputId": "a0e6988d-045f-4077-dad8-26878d82a3fe"
      },
      "outputs": [],
      "source": [
        "# List all the classes\n",
        "classes = os.listdir(train_dir)\n",
        "num_classes = len(classes)\n",
        "\n",
        "# Display the class names\n",
        "print(f'Number of Classes: {num_classes}')\n",
        "print(f'Classes: {classes}')"
      ]
    },
    {
      "cell_type": "code",
      "execution_count": null,
      "metadata": {
        "colab": {
          "base_uri": "https://localhost:8080/",
          "height": 321
        },
        "id": "TE35M2ZWobj1",
        "outputId": "aa4c6a94-aac8-490d-becd-d0a611933707"
      },
      "outputs": [],
      "source": [
        "# Let's visualize the images in the dataset\n",
        "plt.figure(figsize=(12, 10))\n",
        "for i in range(5):\n",
        "  class_path = os.path.join(train_dir, classes[0])\n",
        "  img_name = os.listdir(class_path)[i]\n",
        "  img_path = os.path.join(class_path, img_name)\n",
        "  img = plt.imread(img_path)\n",
        "\n",
        "  plt.subplot(1, 5, i+1)\n",
        "  plt.imshow(img)\n",
        "  plt.title(f'{classes[0]} \\n shape: {img.shape}')\n",
        "  plt.axis('off')\n",
        "plt.show()"
      ]
    },
    {
      "cell_type": "code",
      "execution_count": null,
      "metadata": {
        "colab": {
          "base_uri": "https://localhost:8080/",
          "height": 302
        },
        "id": "U4jjfWG8pq81",
        "outputId": "f7afda22-ecc8-4ddb-8def-fb7357b34e1f"
      },
      "outputs": [],
      "source": [
        "plt.figure(figsize=(12, 10))\n",
        "for i in range(5):\n",
        "  class_path = os.path.join(train_dir, classes[1])\n",
        "  img_name = os.listdir(class_path)[i]\n",
        "  img_path = os.path.join(class_path, img_name)\n",
        "  img = plt.imread(img_path)\n",
        "\n",
        "  plt.subplot(1, 5, i+1)\n",
        "  plt.imshow(img)\n",
        "  plt.title(f'{classes[1]} \\n shape: {img.shape}')\n",
        "  plt.axis('off')\n",
        "plt.show()"
      ]
    }
  ],
  "metadata": {
    "accelerator": "GPU",
    "colab": {
      "gpuType": "T4",
      "provenance": []
    },
    "kernelspec": {
      "display_name": "Python 3",
      "name": "python3"
    },
    "language_info": {
      "codemirror_mode": {
        "name": "ipython",
        "version": 3
      },
      "file_extension": ".py",
      "mimetype": "text/x-python",
      "name": "python",
      "nbconvert_exporter": "python",
      "pygments_lexer": "ipython3",
      "version": "3.10.11"
    }
  },
  "nbformat": 4,
  "nbformat_minor": 0
}
